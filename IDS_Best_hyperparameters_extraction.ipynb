{
  "nbformat": 4,
  "nbformat_minor": 0,
  "metadata": {
    "colab": {
      "provenance": [],
      "gpuType": "A100"
    },
    "kernelspec": {
      "name": "python3",
      "display_name": "Python 3"
    },
    "language_info": {
      "name": "python"
    },
    "gpuClass": "standard"
  },
  "cells": [
    {
      "cell_type": "code",
      "execution_count": 3,
      "metadata": {
        "id": "7tZUmzBgLcOq"
      },
      "outputs": [],
      "source": [
        "import os\n",
        "import pandas as pd\n",
        "import numpy as np \n",
        "import random \n",
        "from sklearn.model_selection import train_test_split, cross_val_score, GridSearchCV \n",
        "from sklearn.preprocessing import StandardScaler\n",
        "from sklearn import tree \n",
        "from sklearn.ensemble import RandomForestClassifier\n",
        "from sklearn.svm import SVC\n",
        "from sklearn.naive_bayes import GaussianNB\n",
        "from sklearn.neural_network import MLPClassifier\n",
        "from sklearn import metrics\n",
        "import matplotlib.pyplot as plt\n",
        "%matplotlib inline\n",
        "\n",
        "#import warnings\n",
        "#warnings.filterwarnings('ignore')\n",
        "random.seed(10)\n",
        "np.random.seed(10)"
      ]
    },
    {
      "cell_type": "code",
      "source": [
        "# load the dataset\n",
        "luflow2020 = pd.read_csv('/content/drive/MyDrive/LUFlow/LUFlow2020.csv')\n",
        "luflow2020 = luflow2020.sample(frac=0.10).reset_index(drop=True)\n",
        "\n",
        "luflow2021 = pd.read_csv('/content/drive/MyDrive/LUFlow/LUFlow2021.csv')\n",
        "luflow2021 = luflow2021.sample(frac=0.10).reset_index(drop=True)\n",
        "luflow2021.shape"
      ],
      "metadata": {
        "colab": {
          "base_uri": "https://localhost:8080/"
        },
        "id": "cZmfNZDjNBYa",
        "outputId": "a2041b18-aeef-42c3-f1a1-827495e24c4f"
      },
      "execution_count": 4,
      "outputs": [
        {
          "output_type": "execute_result",
          "data": {
            "text/plain": [
              "(113726, 16)"
            ]
          },
          "metadata": {},
          "execution_count": 4
        }
      ]
    },
    {
      "cell_type": "code",
      "source": [
        "luflow2020.shape"
      ],
      "metadata": {
        "colab": {
          "base_uri": "https://localhost:8080/"
        },
        "id": "W_Wd48CANYD6",
        "outputId": "7030192c-430b-48cb-935a-3f17ca8b6791"
      },
      "execution_count": 5,
      "outputs": [
        {
          "output_type": "execute_result",
          "data": {
            "text/plain": [
              "(175948, 16)"
            ]
          },
          "metadata": {},
          "execution_count": 5
        }
      ]
    },
    {
      "cell_type": "code",
      "source": [
        "luflow2020 = luflow2020.drop(['src_ip', 'dest_ip', 'time_start', 'time_end'], axis=1)\n",
        "luflow2020.head()"
      ],
      "metadata": {
        "colab": {
          "base_uri": "https://localhost:8080/",
          "height": 206
        },
        "id": "1eG-Dbu4NxzJ",
        "outputId": "b7820162-77bc-4afd-a857-d7643a4419ed"
      },
      "execution_count": 6,
      "outputs": [
        {
          "output_type": "execute_result",
          "data": {
            "text/plain": [
              "   avg_ipt  bytes_in  bytes_out  dest_port   entropy  num_pkts_out  \\\n",
              "0     0.00         0        517    50850.0  7.310200             1   \n",
              "1     0.00         0          0     9200.0  0.000000             1   \n",
              "2   107.75       270        191      445.0  4.573646             6   \n",
              "3   101.50       270        191      445.0  4.571218             6   \n",
              "4     0.00         0          0       53.0  0.000000             4   \n",
              "\n",
              "   num_pkts_in  proto  src_port  total_entropy      label  duration  \n",
              "0            0      6    9200.0      3779.3735     benign  0.000000  \n",
              "1            0      6   34772.0         0.0000     benign  0.000000  \n",
              "2            6      6   56851.0      2108.4510  malicious  0.834764  \n",
              "3            6      6   59398.0      2107.3313  malicious  0.742541  \n",
              "4            0      6   54168.0         0.0000     benign  7.152393  "
            ],
            "text/html": [
              "\n",
              "  <div id=\"df-fa6b4a98-6f64-4bbb-aedc-1d9339bfa496\">\n",
              "    <div class=\"colab-df-container\">\n",
              "      <div>\n",
              "<style scoped>\n",
              "    .dataframe tbody tr th:only-of-type {\n",
              "        vertical-align: middle;\n",
              "    }\n",
              "\n",
              "    .dataframe tbody tr th {\n",
              "        vertical-align: top;\n",
              "    }\n",
              "\n",
              "    .dataframe thead th {\n",
              "        text-align: right;\n",
              "    }\n",
              "</style>\n",
              "<table border=\"1\" class=\"dataframe\">\n",
              "  <thead>\n",
              "    <tr style=\"text-align: right;\">\n",
              "      <th></th>\n",
              "      <th>avg_ipt</th>\n",
              "      <th>bytes_in</th>\n",
              "      <th>bytes_out</th>\n",
              "      <th>dest_port</th>\n",
              "      <th>entropy</th>\n",
              "      <th>num_pkts_out</th>\n",
              "      <th>num_pkts_in</th>\n",
              "      <th>proto</th>\n",
              "      <th>src_port</th>\n",
              "      <th>total_entropy</th>\n",
              "      <th>label</th>\n",
              "      <th>duration</th>\n",
              "    </tr>\n",
              "  </thead>\n",
              "  <tbody>\n",
              "    <tr>\n",
              "      <th>0</th>\n",
              "      <td>0.00</td>\n",
              "      <td>0</td>\n",
              "      <td>517</td>\n",
              "      <td>50850.0</td>\n",
              "      <td>7.310200</td>\n",
              "      <td>1</td>\n",
              "      <td>0</td>\n",
              "      <td>6</td>\n",
              "      <td>9200.0</td>\n",
              "      <td>3779.3735</td>\n",
              "      <td>benign</td>\n",
              "      <td>0.000000</td>\n",
              "    </tr>\n",
              "    <tr>\n",
              "      <th>1</th>\n",
              "      <td>0.00</td>\n",
              "      <td>0</td>\n",
              "      <td>0</td>\n",
              "      <td>9200.0</td>\n",
              "      <td>0.000000</td>\n",
              "      <td>1</td>\n",
              "      <td>0</td>\n",
              "      <td>6</td>\n",
              "      <td>34772.0</td>\n",
              "      <td>0.0000</td>\n",
              "      <td>benign</td>\n",
              "      <td>0.000000</td>\n",
              "    </tr>\n",
              "    <tr>\n",
              "      <th>2</th>\n",
              "      <td>107.75</td>\n",
              "      <td>270</td>\n",
              "      <td>191</td>\n",
              "      <td>445.0</td>\n",
              "      <td>4.573646</td>\n",
              "      <td>6</td>\n",
              "      <td>6</td>\n",
              "      <td>6</td>\n",
              "      <td>56851.0</td>\n",
              "      <td>2108.4510</td>\n",
              "      <td>malicious</td>\n",
              "      <td>0.834764</td>\n",
              "    </tr>\n",
              "    <tr>\n",
              "      <th>3</th>\n",
              "      <td>101.50</td>\n",
              "      <td>270</td>\n",
              "      <td>191</td>\n",
              "      <td>445.0</td>\n",
              "      <td>4.571218</td>\n",
              "      <td>6</td>\n",
              "      <td>6</td>\n",
              "      <td>6</td>\n",
              "      <td>59398.0</td>\n",
              "      <td>2107.3313</td>\n",
              "      <td>malicious</td>\n",
              "      <td>0.742541</td>\n",
              "    </tr>\n",
              "    <tr>\n",
              "      <th>4</th>\n",
              "      <td>0.00</td>\n",
              "      <td>0</td>\n",
              "      <td>0</td>\n",
              "      <td>53.0</td>\n",
              "      <td>0.000000</td>\n",
              "      <td>4</td>\n",
              "      <td>0</td>\n",
              "      <td>6</td>\n",
              "      <td>54168.0</td>\n",
              "      <td>0.0000</td>\n",
              "      <td>benign</td>\n",
              "      <td>7.152393</td>\n",
              "    </tr>\n",
              "  </tbody>\n",
              "</table>\n",
              "</div>\n",
              "      <button class=\"colab-df-convert\" onclick=\"convertToInteractive('df-fa6b4a98-6f64-4bbb-aedc-1d9339bfa496')\"\n",
              "              title=\"Convert this dataframe to an interactive table.\"\n",
              "              style=\"display:none;\">\n",
              "        \n",
              "  <svg xmlns=\"http://www.w3.org/2000/svg\" height=\"24px\"viewBox=\"0 0 24 24\"\n",
              "       width=\"24px\">\n",
              "    <path d=\"M0 0h24v24H0V0z\" fill=\"none\"/>\n",
              "    <path d=\"M18.56 5.44l.94 2.06.94-2.06 2.06-.94-2.06-.94-.94-2.06-.94 2.06-2.06.94zm-11 1L8.5 8.5l.94-2.06 2.06-.94-2.06-.94L8.5 2.5l-.94 2.06-2.06.94zm10 10l.94 2.06.94-2.06 2.06-.94-2.06-.94-.94-2.06-.94 2.06-2.06.94z\"/><path d=\"M17.41 7.96l-1.37-1.37c-.4-.4-.92-.59-1.43-.59-.52 0-1.04.2-1.43.59L10.3 9.45l-7.72 7.72c-.78.78-.78 2.05 0 2.83L4 21.41c.39.39.9.59 1.41.59.51 0 1.02-.2 1.41-.59l7.78-7.78 2.81-2.81c.8-.78.8-2.07 0-2.86zM5.41 20L4 18.59l7.72-7.72 1.47 1.35L5.41 20z\"/>\n",
              "  </svg>\n",
              "      </button>\n",
              "      \n",
              "  <style>\n",
              "    .colab-df-container {\n",
              "      display:flex;\n",
              "      flex-wrap:wrap;\n",
              "      gap: 12px;\n",
              "    }\n",
              "\n",
              "    .colab-df-convert {\n",
              "      background-color: #E8F0FE;\n",
              "      border: none;\n",
              "      border-radius: 50%;\n",
              "      cursor: pointer;\n",
              "      display: none;\n",
              "      fill: #1967D2;\n",
              "      height: 32px;\n",
              "      padding: 0 0 0 0;\n",
              "      width: 32px;\n",
              "    }\n",
              "\n",
              "    .colab-df-convert:hover {\n",
              "      background-color: #E2EBFA;\n",
              "      box-shadow: 0px 1px 2px rgba(60, 64, 67, 0.3), 0px 1px 3px 1px rgba(60, 64, 67, 0.15);\n",
              "      fill: #174EA6;\n",
              "    }\n",
              "\n",
              "    [theme=dark] .colab-df-convert {\n",
              "      background-color: #3B4455;\n",
              "      fill: #D2E3FC;\n",
              "    }\n",
              "\n",
              "    [theme=dark] .colab-df-convert:hover {\n",
              "      background-color: #434B5C;\n",
              "      box-shadow: 0px 1px 3px 1px rgba(0, 0, 0, 0.15);\n",
              "      filter: drop-shadow(0px 1px 2px rgba(0, 0, 0, 0.3));\n",
              "      fill: #FFFFFF;\n",
              "    }\n",
              "  </style>\n",
              "\n",
              "      <script>\n",
              "        const buttonEl =\n",
              "          document.querySelector('#df-fa6b4a98-6f64-4bbb-aedc-1d9339bfa496 button.colab-df-convert');\n",
              "        buttonEl.style.display =\n",
              "          google.colab.kernel.accessAllowed ? 'block' : 'none';\n",
              "\n",
              "        async function convertToInteractive(key) {\n",
              "          const element = document.querySelector('#df-fa6b4a98-6f64-4bbb-aedc-1d9339bfa496');\n",
              "          const dataTable =\n",
              "            await google.colab.kernel.invokeFunction('convertToInteractive',\n",
              "                                                     [key], {});\n",
              "          if (!dataTable) return;\n",
              "\n",
              "          const docLinkHtml = 'Like what you see? Visit the ' +\n",
              "            '<a target=\"_blank\" href=https://colab.research.google.com/notebooks/data_table.ipynb>data table notebook</a>'\n",
              "            + ' to learn more about interactive tables.';\n",
              "          element.innerHTML = '';\n",
              "          dataTable['output_type'] = 'display_data';\n",
              "          await google.colab.output.renderOutput(dataTable, element);\n",
              "          const docLink = document.createElement('div');\n",
              "          docLink.innerHTML = docLinkHtml;\n",
              "          element.appendChild(docLink);\n",
              "        }\n",
              "      </script>\n",
              "    </div>\n",
              "  </div>\n",
              "  "
            ]
          },
          "metadata": {},
          "execution_count": 6
        }
      ]
    },
    {
      "cell_type": "code",
      "source": [
        "luflow_X = luflow2020.drop('label', axis=1).copy()\n",
        "luflow_y = luflow2020['label'].copy()"
      ],
      "metadata": {
        "id": "AEO_CbWcP_PL"
      },
      "execution_count": 7,
      "outputs": []
    },
    {
      "cell_type": "code",
      "source": [
        "import seaborn as sns\n",
        "\n",
        "sns.heatmap(luflow2020.corr(), xticklabels=luflow2020.columns, yticklabels=luflow2020.columns)"
      ],
      "metadata": {
        "colab": {
          "base_uri": "https://localhost:8080/",
          "height": 591
        },
        "id": "6N5buoX6D4c2",
        "outputId": "114f8e58-de85-41cf-bfe4-a744837698ad"
      },
      "execution_count": null,
      "outputs": [
        {
          "output_type": "stream",
          "name": "stderr",
          "text": [
            "<ipython-input-7-b6aafea1ad84>:3: FutureWarning: The default value of numeric_only in DataFrame.corr is deprecated. In a future version, it will default to False. Select only valid columns or specify the value of numeric_only to silence this warning.\n",
            "  sns.heatmap(luflow2020.corr(), xticklabels=luflow2020.columns, yticklabels=luflow2020.columns)\n"
          ]
        },
        {
          "output_type": "execute_result",
          "data": {
            "text/plain": [
              "<Axes: >"
            ]
          },
          "metadata": {},
          "execution_count": 7
        },
        {
          "output_type": "display_data",
          "data": {
            "text/plain": [
              "<Figure size 640x480 with 2 Axes>"
            ],
            "image/png": "[encoded data removed]"
          },
          "metadata": {}
        }
      ]
    },
    {
      "cell_type": "code",
      "source": [
        "# label distribution\n",
        "luflow2020.label.value_counts().plot(kind='bar')\n",
        "plt.ylabel('Frequency')\n",
        "plt.grid()\n",
        "plt.show()"
      ],
      "metadata": {
        "colab": {
          "base_uri": "https://localhost:8080/",
          "height": 482
        },
        "id": "ppLj7bY8F0LW",
        "outputId": "b02814f3-c6a5-404d-ae57-19b9dfb8561c"
      },
      "execution_count": null,
      "outputs": [
        {
          "output_type": "display_data",
          "data": {
            "text/plain": [
              "<Figure size 640x480 with 1 Axes>"
            ],
            "image/png": "[encoded data removed]"
          },
          "metadata": {}
        }
      ]
    },
    {
      "cell_type": "markdown",
      "source": [
        "## Random Forest for Feature Selection"
      ],
      "metadata": {
        "id": "RXzBrCS7QQOk"
      }
    },
    {
      "cell_type": "code",
      "source": [
        "rfc = RandomForestClassifier()\n",
        "rfc.fit(luflow_X, luflow_y)"
      ],
      "metadata": {
        "colab": {
          "base_uri": "https://localhost:8080/",
          "height": 75
        },
        "id": "TI7UIufRQPjd",
        "outputId": "d244cd7c-ad48-443c-afb2-e87042873a0c"
      },
      "execution_count": 17,
      "outputs": [
        {
          "output_type": "execute_result",
          "data": {
            "text/plain": [
              "RandomForestClassifier()"
            ],
            "text/html": [
              "<style>#sk-container-id-1 {color: black;background-color: white;}#sk-container-id-1 pre{padding: 0;}#sk-container-id-1 div.sk-toggleable {background-color: white;}#sk-container-id-1 label.sk-toggleable__label {cursor: pointer;display: block;width: 100%;margin-bottom: 0;padding: 0.3em;box-sizing: border-box;text-align: center;}#sk-container-id-1 label.sk-toggleable__label-arrow:before {content: \"▸\";float: left;margin-right: 0.25em;color: #696969;}#sk-container-id-1 label.sk-toggleable__label-arrow:hover:before {color: black;}#sk-container-id-1 div.sk-estimator:hover label.sk-toggleable__label-arrow:before {color: black;}#sk-container-id-1 div.sk-toggleable__content {max-height: 0;max-width: 0;overflow: hidden;text-align: left;background-color: #f0f8ff;}#sk-container-id-1 div.sk-toggleable__content pre {margin: 0.2em;color: black;border-radius: 0.25em;background-color: #f0f8ff;}#sk-container-id-1 input.sk-toggleable__control:checked~div.sk-toggleable__content {max-height: 200px;max-width: 100%;overflow: auto;}#sk-container-id-1 input.sk-toggleable__control:checked~label.sk-toggleable__label-arrow:before {content: \"▾\";}#sk-container-id-1 div.sk-estimator input.sk-toggleable__control:checked~label.sk-toggleable__label {background-color: #d4ebff;}#sk-container-id-1 div.sk-label input.sk-toggleable__control:checked~label.sk-toggleable__label {background-color: #d4ebff;}#sk-container-id-1 input.sk-hidden--visually {border: 0;clip: rect(1px 1px 1px 1px);clip: rect(1px, 1px, 1px, 1px);height: 1px;margin: -1px;overflow: hidden;padding: 0;position: absolute;width: 1px;}#sk-container-id-1 div.sk-estimator {font-family: monospace;background-color: #f0f8ff;border: 1px dotted black;border-radius: 0.25em;box-sizing: border-box;margin-bottom: 0.5em;}#sk-container-id-1 div.sk-estimator:hover {background-color: #d4ebff;}#sk-container-id-1 div.sk-parallel-item::after {content: \"\";width: 100%;border-bottom: 1px solid gray;flex-grow: 1;}#sk-container-id-1 div.sk-label:hover label.sk-toggleable__label {background-color: #d4ebff;}#sk-container-id-1 div.sk-serial::before {content: \"\";position: absolute;border-left: 1px solid gray;box-sizing: border-box;top: 0;bottom: 0;left: 50%;z-index: 0;}#sk-container-id-1 div.sk-serial {display: flex;flex-direction: column;align-items: center;background-color: white;padding-right: 0.2em;padding-left: 0.2em;position: relative;}#sk-container-id-1 div.sk-item {position: relative;z-index: 1;}#sk-container-id-1 div.sk-parallel {display: flex;align-items: stretch;justify-content: center;background-color: white;position: relative;}#sk-container-id-1 div.sk-item::before, #sk-container-id-1 div.sk-parallel-item::before {content: \"\";position: absolute;border-left: 1px solid gray;box-sizing: border-box;top: 0;bottom: 0;left: 50%;z-index: -1;}#sk-container-id-1 div.sk-parallel-item {display: flex;flex-direction: column;z-index: 1;position: relative;background-color: white;}#sk-container-id-1 div.sk-parallel-item:first-child::after {align-self: flex-end;width: 50%;}#sk-container-id-1 div.sk-parallel-item:last-child::after {align-self: flex-start;width: 50%;}#sk-container-id-1 div.sk-parallel-item:only-child::after {width: 0;}#sk-container-id-1 div.sk-dashed-wrapped {border: 1px dashed gray;margin: 0 0.4em 0.5em 0.4em;box-sizing: border-box;padding-bottom: 0.4em;background-color: white;}#sk-container-id-1 div.sk-label label {font-family: monospace;font-weight: bold;display: inline-block;line-height: 1.2em;}#sk-container-id-1 div.sk-label-container {text-align: center;}#sk-container-id-1 div.sk-container {/* jupyter's `normalize.less` sets `[hidden] { display: none; }` but bootstrap.min.css set `[hidden] { display: none !important; }` so we also need the `!important` here to be able to override the default hidden behavior on the sphinx rendered scikit-learn.org. See: https://github.com/scikit-learn/scikit-learn/issues/21755 */display: inline-block !important;position: relative;}#sk-container-id-1 div.sk-text-repr-fallback {display: none;}</style><div id=\"sk-container-id-1\" class=\"sk-top-container\"><div class=\"sk-text-repr-fallback\"><pre>RandomForestClassifier()</pre><b>In a Jupyter environment, please rerun this cell to show the HTML representation or trust the notebook. <br />On GitHub, the HTML representation is unable to render, please try loading this page with nbviewer.org.</b></div><div class=\"sk-container\" hidden><div class=\"sk-item\"><div class=\"sk-estimator sk-toggleable\"><input class=\"sk-toggleable__control sk-hidden--visually\" id=\"sk-estimator-id-1\" type=\"checkbox\" checked><label for=\"sk-estimator-id-1\" class=\"sk-toggleable__label sk-toggleable__label-arrow\">RandomForestClassifier</label><div class=\"sk-toggleable__content\"><pre>RandomForestClassifier()</pre></div></div></div></div></div>"
            ]
          },
          "metadata": {},
          "execution_count": 17
        }
      ]
    },
    {
      "cell_type": "code",
      "source": [
        "score = np.round(rfc.feature_importances_, 3)\n",
        "feature_imp = pd.DataFrame({'feature': luflow_X.columns,'importance score': score})\n",
        "feature_imp = feature_imp.sort_values('importance score', ascending=False).set_index('feature')\n",
        "\n",
        "plt.rcParams['figure.figsize'] = (8, 3)\n",
        "feature_imp.plot.bar()"
      ],
      "metadata": {
        "colab": {
          "base_uri": "https://localhost:8080/",
          "height": 411
        },
        "id": "9NfzTmLUOLRV",
        "outputId": "ce39c07c-1689-467e-f7a6-b74120232840"
      },
      "execution_count": 18,
      "outputs": [
        {
          "output_type": "execute_result",
          "data": {
            "text/plain": [
              "<Axes: xlabel='feature'>"
            ]
          },
          "metadata": {},
          "execution_count": 18
        },
        {
          "output_type": "display_data",
          "data": {
            "text/plain": [
              "<Figure size 800x300 with 1 Axes>"
            ],
            "image/png": "[encoded data removed]"
          },
          "metadata": {}
        }
      ]
    },
    {
      "cell_type": "code",
      "source": [
        "def save_feature(features: pd.Series, dataset_name: str, algorithm: str, tag: str = \"\"):\n",
        "    feature_count = features.shape[0]\n",
        "    if not(tag == \"\"):\n",
        "        tag = \"_\" + tag\n",
        "    \n",
        "    directory = '/content/drive/MyDrive/LUFlow/features_selected'\n",
        "    file_name = f\"{dataset_name}_{algorithm}_{feature_count}{tag}\"\n",
        "    \n",
        "    # create directory to save the file\n",
        "    os.makedirs(directory, exist_ok=True)\n",
        "    \n",
        "    features.to_csv(f\"{directory}/{file_name}.csv\", index=False, columns=None)\n",
        "\n",
        "    print(f\"Features are saved to {directory}/{file_name}.csv\")"
      ],
      "metadata": {
        "id": "WvYpOWasRlWl"
      },
      "execution_count": 19,
      "outputs": []
    },
    {
      "cell_type": "code",
      "source": [
        "features = pd.Series(feature_imp.index[:], dtype='str')\n",
        "save_feature(features=features, dataset_name='LUFlow', algorithm='RandomForestClassifier')"
      ],
      "metadata": {
        "colab": {
          "base_uri": "https://localhost:8080/"
        },
        "id": "fnMXEPooRoZ-",
        "outputId": "fd212f8e-b773-4cee-ed15-89eb226ca278"
      },
      "execution_count": 20,
      "outputs": [
        {
          "output_type": "stream",
          "name": "stdout",
          "text": [
            "Features are saved to /content/drive/MyDrive/LUFlow/features_selected/LUFlow_RandomForestClassifier_11.csv\n"
          ]
        }
      ]
    },
    {
      "cell_type": "code",
      "source": [
        "# define ML models without optimized hyperparameter\n",
        "models = {'DT': tree.DecisionTreeClassifier(),\n",
        "          'RF': RandomForestClassifier(n_jobs=-1),\n",
        "          'Naive Bayes': GaussianNB(),\n",
        "          'DNN': MLPClassifier(hidden_layer_sizes=(12, 12, 12), max_iter=500),\n",
        "          'ANN': MLPClassifier(hidden_layer_sizes=(30), max_iter=500)}"
      ],
      "metadata": {
        "id": "DSpBUG34VbtP"
      },
      "execution_count": 23,
      "outputs": []
    },
    {
      "cell_type": "code",
      "source": [
        "luflow_train_X, luflow_test_X, luflow_train_y, luflow_test_y = train_test_split(luflow_X, luflow_y, test_size=0.3)"
      ],
      "metadata": {
        "id": "pQwpJQk3V2lv"
      },
      "execution_count": 25,
      "outputs": []
    },
    {
      "cell_type": "code",
      "source": [
        "feature_set = []\n",
        "scaler = StandardScaler()\n",
        "scores = []\n",
        "\n",
        "for feature in features:\n",
        "    feature_set.append(feature)\n",
        "    print(f\"Added feature {len(feature_set)} ({feature}) ...\")    \n",
        "    test_X = luflow_test_X[feature_set]\n",
        "    train_X = luflow_train_X[feature_set]\n",
        "\n",
        "    train_X_scaled = scaler.fit(train_X)\n",
        "    train_X_scaled = scaler.transform(train_X)\n",
        "    test_X_scaled = scaler.transform(test_X)\n",
        "\n",
        "    score_temp = [len(feature_set)]    \n",
        "    for model in models:\n",
        "        clf = models[model]\n",
        "        clf.fit(train_X_scaled, luflow_train_y)\n",
        "        prediction = clf.predict(test_X_scaled)\n",
        "        accuracy = metrics.accuracy_score(luflow_test_y, prediction)\n",
        "        score_temp.append(accuracy)\n",
        "    scores.append(score_temp)\n",
        "\n",
        "scores = np.array(scores)"
      ],
      "metadata": {
        "colab": {
          "base_uri": "https://localhost:8080/"
        },
        "id": "J3bfR1heV5ON",
        "outputId": "09b50046-69ec-400f-e3ce-69c93ec08c04"
      },
      "execution_count": 26,
      "outputs": [
        {
          "output_type": "stream",
          "name": "stdout",
          "text": [
            "Added feature 1 (dest_port) ...\n",
            "Added feature 2 (bytes_out) ...\n",
            "Added feature 3 (src_port) ...\n",
            "Added feature 4 (total_entropy) ...\n",
            "Added feature 5 (duration) ...\n",
            "Added feature 6 (num_pkts_in) ...\n",
            "Added feature 7 (avg_ipt) ...\n",
            "Added feature 8 (entropy) ...\n",
            "Added feature 9 (bytes_in) ...\n",
            "Added feature 10 (num_pkts_out) ...\n",
            "Added feature 11 (proto) ...\n"
          ]
        }
      ]
    },
    {
      "cell_type": "code",
      "source": [
        "plt.figure(figsize=(8, 8))\n",
        "\n",
        "for index, model in enumerate(models):\n",
        "    plt.plot(scores.T[0], scores.T[index + 1], label=model)\n",
        "plt.title('Accuracy of the models with respect to the number of features')\n",
        "plt.ylabel('Accuracy')\n",
        "plt.xlabel('Number of features')\n",
        "plt.legend()\n",
        "plt.grid()\n",
        "plt.show()"
      ],
      "metadata": {
        "colab": {
          "base_uri": "https://localhost:8080/",
          "height": 718
        },
        "id": "xyrRBVNXV8hY",
        "outputId": "d16046a5-4d4e-454a-a80b-e8097da951a9"
      },
      "execution_count": 27,
      "outputs": [
        {
          "output_type": "display_data",
          "data": {
            "text/plain": [
              "<Figure size 800x800 with 1 Axes>"
            ],
            "image/png": "[encoded data removed]"
          },
          "metadata": {}
        }
      ]
    },
    {
      "cell_type": "code",
      "source": [
        "features = pd.read_csv('/content/drive/MyDrive/LUFlow/features_selected/LUFlow_RandomForestClassifier_11.csv').squeeze()\n",
        "features = features[:6]\n",
        "columns_selected = features.tolist() +  ['label']"
      ],
      "metadata": {
        "id": "bPCoYjItYQ2u"
      },
      "execution_count": 10,
      "outputs": []
    },
    {
      "cell_type": "code",
      "source": [
        "columns_selected"
      ],
      "metadata": {
        "colab": {
          "base_uri": "https://localhost:8080/"
        },
        "id": "GqDJ_ev_Hr3v",
        "outputId": "2a66cf4a-2a65-45ae-8781-9f8ba7bf887b"
      },
      "execution_count": null,
      "outputs": [
        {
          "output_type": "execute_result",
          "data": {
            "text/plain": [
              "['dest_port',\n",
              " 'bytes_out',\n",
              " 'src_port',\n",
              " 'total_entropy',\n",
              " 'num_pkts_in',\n",
              " 'duration',\n",
              " 'label']"
            ]
          },
          "metadata": {},
          "execution_count": 18
        }
      ]
    },
    {
      "cell_type": "code",
      "source": [
        "train_X = luflow_train_X[['dest_port','bytes_out','src_port','total_entropy','num_pkts_in', 'duration']]   \n",
        "test_X = luflow_test_X[['dest_port','bytes_out','src_port','total_entropy','num_pkts_in', 'duration']]"
      ],
      "metadata": {
        "id": "TvbK5bJAxIne"
      },
      "execution_count": 11,
      "outputs": []
    },
    {
      "cell_type": "code",
      "source": [
        "scale = StandardScaler()   # scaling\n",
        "X_train = scale.fit_transform(train_X)\n",
        "X_test = scale.transform(test_X)"
      ],
      "metadata": {
        "id": "gB3EmyQ8I5h-"
      },
      "execution_count": 12,
      "outputs": []
    },
    {
      "cell_type": "markdown",
      "source": [
        "## Modeling\n",
        "### Decision Tree Model"
      ],
      "metadata": {
        "id": "5ailVuTUMHdg"
      }
    },
    {
      "cell_type": "code",
      "source": [
        "# generate alpha parameter value\n",
        "\n",
        "DTmodel = tree.DecisionTreeClassifier(criterion='entropy')\n",
        "path = DTmodel.cost_complexity_pruning_path(X_train, luflow_train_y)\n",
        "ccp_alphas = path.ccp_alphas  \n",
        "ccp_alphas = ccp_alphas[:-1]\n",
        "alpha_loop_values = []\n",
        "for ccp_alpha in ccp_alphas:\n",
        "    decision_tree = tree.DecisionTreeClassifier(criterion='entropy', ccp_alpha=ccp_alpha)\n",
        "    scores = cross_val_score(decision_tree, train_X, luflow_train_y, cv=5)\n",
        "    alpha_loop_values.append([ccp_alpha, np.mean(scores), np.std(scores)])\n",
        "alpha_results = pd.DataFrame(alpha_loop_values, columns=['alpha', 'mean_accuracy', 'std'])\n",
        "ideal_ccp_alpha = alpha_results.sort_values(by=['mean_accuracy'], ascending=False).iloc[0]\n",
        "ideal_ccp_alpha = float(ideal_ccp_alpha['alpha'])\n",
        "print(f\"Decision Tree Alpha value: {ideal_ccp_alpha}\")"
      ],
      "metadata": {
        "id": "KRlSHmQWbWr7",
        "colab": {
          "base_uri": "https://localhost:8080/"
        },
        "outputId": "d4edd97c-da69-4f09-af5a-461596562cf8"
      },
      "execution_count": null,
      "outputs": [
        {
          "output_type": "stream",
          "name": "stdout",
          "text": [
            "Decision Tree Alpha value: 3.24772861979653e-05\n"
          ]
        }
      ]
    },
    {
      "cell_type": "code",
      "source": [
        "# build the decision tree model\n",
        "\n",
        "DTmodel = tree.DecisionTreeClassifier(criterion='entropy', ccp_alpha=ideal_ccp_alpha)\n",
        "DTmodel.fit(train_X, luflow_train_y)\n",
        "y_pred_dt = DTmodel.predict(test_X)\n",
        "accuracy = metrics.accuracy_score(luflow_test_y, prediction)\n",
        "print(f\"Decision Tree model Accuracy: {accuracy:.5f}\")"
      ],
      "metadata": {
        "colab": {
          "base_uri": "https://localhost:8080/"
        },
        "id": "MUOBZh1acDfT",
        "outputId": "f4bb20e1-eac6-4322-cf83-80e5332e1173"
      },
      "execution_count": null,
      "outputs": [
        {
          "output_type": "stream",
          "name": "stdout",
          "text": [
            "Decision Tree model Accuracy: 0.99799\n"
          ]
        }
      ]
    },
    {
      "cell_type": "markdown",
      "source": [
        "### Random Forest Model"
      ],
      "metadata": {
        "id": "UuyYlAfPMDUQ"
      }
    },
    {
      "cell_type": "code",
      "source": [
        "%%time\n",
        "#param = [{'criterion': ['gini'], 'max_depth': [3, 5], 'min_samples_leaf': [50, 100], 'n_estimators': [10, 25]}]\n",
        "#param = [{'criterion': ['gini'], 'max_depth': [1, 2], 'min_samples_leaf': [200, 500], 'n_estimators': [1, 5]}]\n",
        "#param = [{'criterion': ['gini'], 'max_depth': [10, 20], 'min_samples_leaf': [5, 10], 'n_estimators': [100, 200]}]\n",
        "param = [{'criterion': ['gini'], 'max_depth': [10, 20], 'min_samples_leaf': [5, 10], 'n_estimators': [100, 200],\n",
        "          'max_features': ['sqrt', 'log2'], 'min_samples_split': [2, 4]}]\n",
        "\n",
        "\n",
        "RFmodel = GridSearchCV(RandomForestClassifier(), param, cv=5, scoring='accuracy', n_jobs=-1, verbose=0) \n",
        "RFmodel.fit(train_X, luflow_train_y)\n",
        "y_pred_RF = RFmodel.predict(test_X)\n",
        "\n",
        "accuracy = metrics.accuracy_score(luflow_test_y, y_pred_RF)\n",
        "print(f\"Random Forest Model Accuracy: {accuracy:.5f}\")\n",
        "\n",
        "rf_best_params = RFmodel.best_params_\n",
        "print(f\"Random Forest hyperparameters: \\n{rf_best_params}\")"
      ],
      "metadata": {
        "id": "TbjrbcoFfZSh",
        "colab": {
          "base_uri": "https://localhost:8080/"
        },
        "outputId": "7aa8e4c0-152c-4fa1-cfc9-30bdc2d514aa"
      },
      "execution_count": null,
      "outputs": [
        {
          "output_type": "stream",
          "name": "stdout",
          "text": [
            "Random Forest Model Accuracy: 0.99945\n",
            "Random Forest hyperparameters: \n",
            "{'criterion': 'gini', 'max_depth': 20, 'max_features': 'sqrt', 'min_samples_leaf': 5, 'min_samples_split': 4, 'n_estimators': 100}\n",
            "CPU times: user 23.5 s, sys: 1.41 s, total: 24.9 s\n",
            "Wall time: 26min 53s\n"
          ]
        }
      ]
    },
    {
      "cell_type": "markdown",
      "source": [
        "### Naive Bayes Model"
      ],
      "metadata": {
        "id": "x9jWeX4wFZMK"
      }
    },
    {
      "cell_type": "code",
      "source": [
        "%%time\n",
        "\n",
        "param = [{'var_smoothing': np.logspace(0, -9, num=100)}]\n",
        "\n",
        "NB_model = GridSearchCV(GaussianNB(),param, cv=5,n_jobs=-1,verbose=0)\n",
        "NB_model.fit(train_X, luflow_train_y)\n",
        "y_pred_nb = NB_model.predict(test_X)\n",
        "\n",
        "accuracy = metrics.accuracy_score(luflow_test_y, y_pred_nb)\n",
        "print(f\"Naive bayes Model Accuracy: {accuracy:.5f}\")\n",
        "\n",
        "nb_best_params = NB_model.best_params_\n",
        "print(f\"Optimum hyperparameters: \\n{nb_best_params}\")"
      ],
      "metadata": {
        "colab": {
          "base_uri": "https://localhost:8080/"
        },
        "id": "G1Mtytg8DsTw",
        "outputId": "3d093c0a-de7c-41eb-ac5b-a368105b3bec"
      },
      "execution_count": null,
      "outputs": [
        {
          "output_type": "stream",
          "name": "stdout",
          "text": [
            "Naive bayes Model Accuracy: 0.73672\n",
            "Optimum hyperparameters: \n",
            "{'var_smoothing': 1.5199110829529332e-05}\n",
            "CPU times: user 8.91 s, sys: 850 ms, total: 9.76 s\n",
            "Wall time: 2min 24s\n"
          ]
        }
      ]
    },
    {
      "cell_type": "markdown",
      "source": [
        "### Artificial Neural Network"
      ],
      "metadata": {
        "id": "mgGKaOTprzKl"
      }
    },
    {
      "cell_type": "code",
      "source": [
        "%%time\n",
        "\n",
        "param = [\n",
        "    {'hidden_layer_sizes': [(30,), (20,), (10,)],\n",
        "    'activation': ['relu'],\n",
        "    'solver': ['adam'],\n",
        "    'alpha': [0.0001, 0.001]}\n",
        "]\n",
        "\n",
        "ann = MLPClassifier(max_iter=500)\n",
        "ANNmodel = GridSearchCV(ann,param, cv=5,n_jobs=-1,verbose=0)\n",
        "\n",
        "ANNmodel.fit(train_X, luflow_train_y)\n",
        "y_pred_ann = ANNmodel.predict(test_X)\n",
        "\n",
        "accuracy = metrics.accuracy_score(luflow_test_y, y_pred_ann)\n",
        "print(f\"Accuracy: {accuracy:.5f}\")\n",
        "\n",
        "ann_best_params = ANNmodel.best_params_\n",
        "print(f\"ANN Best hyperparameters: \\n{ann_best_params}\")"
      ],
      "metadata": {
        "colab": {
          "base_uri": "https://localhost:8080/"
        },
        "id": "mJBTE5fasN0M",
        "outputId": "b46cdc72-80c0-4d12-908b-cd1ba79c3bfd"
      },
      "execution_count": 15,
      "outputs": [
        {
          "output_type": "stream",
          "name": "stdout",
          "text": [
            "Accuracy: 0.95578\n",
            "ANN Best hyperparameters: \n",
            "{'activation': 'relu', 'alpha': 0.001, 'hidden_layer_sizes': (30,), 'solver': 'adam'}\n",
            "CPU times: user 15.8 s, sys: 384 ms, total: 16.2 s\n",
            "Wall time: 4min 39s\n"
          ]
        }
      ]
    },
    {
      "cell_type": "markdown",
      "source": [
        "### Deep Neural Network"
      ],
      "metadata": {
        "id": "5PNP-A_xEX6I"
      }
    },
    {
      "cell_type": "code",
      "source": [
        "%%time\n",
        "\n",
        "#param = [{'hidden_layer_sizes': [(10,10, 10), (12, 12, 12), (8, 8, 8), (8, 8, 8, 8), (10, 10, 10, 10)],'activation': ['tanh', 'relu', 'logistic'],'solver': ['adam', 'sgd'],'alpha': [0.0001, 0.00001, 0.001]}]\n",
        "param = [{'hidden_layer_sizes': [(10, 10), (12, 12), (8, 8), (10, 10, 10)], \n",
        "          'activation': ['tanh', 'relu', 'logistic'], \n",
        "          'solver': ['adam', 'sgd'], \n",
        "          'alpha': [0.001, 0.0001, 0.00001]}]\n",
        "\n",
        "DNN_model = GridSearchCV(MLPClassifier(max_iter=500), param, cv=5, n_jobs=-1,verbose=0)\n",
        "DNN_model.fit(train_X, luflow_train_y)\n",
        "y_pred_dnn = DNN_model.predict(test_X)\n",
        "\n",
        "accuracy = metrics.accuracy_score(luflow_test_y, y_pred_dnn)\n",
        "print(f\"DNN Model Accuracy: {accuracy:.5f}\")\n",
        "\n",
        "dnn_best_params = DNN_model.best_params_\n",
        "print(f\"DNN Best hyperparameters: \\n{dnn_best_params}\")"
      ],
      "metadata": {
        "colab": {
          "base_uri": "https://localhost:8080/"
        },
        "id": "d3zl6LVNEXC1",
        "outputId": "c7abda67-bcb0-477e-d247-dce8d8e93031"
      },
      "execution_count": null,
      "outputs": [
        {
          "output_type": "stream",
          "name": "stdout",
          "text": [
            "DNN Model Accuracy: 0.96853\n",
            "DNN Best hyperparameters: \n",
            "{'activation': 'relu', 'alpha': 0.001, 'hidden_layer_sizes': (10, 10, 10), 'solver': 'adam'}\n",
            "CPU times: user 1min 7s, sys: 3.99 s, total: 1min 11s\n",
            "Wall time: 1h 5min 35s\n"
          ]
        }
      ]
    },
    {
      "cell_type": "markdown",
      "source": [],
      "metadata": {
        "id": "Emzxp6vdCmN8"
      }
    }
  ]
}